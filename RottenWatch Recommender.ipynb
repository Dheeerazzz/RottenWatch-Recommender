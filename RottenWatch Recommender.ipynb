{
 "cells": [
  {
   "cell_type": "markdown",
   "metadata": {},
   "source": [
    "## This is a project made with Selenium to scrape top movies data from Rotten Tomatoes based on the OTT platform and Genre specified by the user.\n",
    "\n",
    "### Go to the last block for the full project."
   ]
  },
  {
   "cell_type": "code",
   "execution_count": 1,
   "metadata": {},
   "outputs": [],
   "source": [
    "from selenium import webdriver\n",
    "from selenium.webdriver.common.by import By\n",
    "import os"
   ]
  },
  {
   "cell_type": "code",
   "execution_count": 2,
   "metadata": {},
   "outputs": [],
   "source": [
    "os.environ['PATH']+= r'C:/SeleniumDrivers'"
   ]
  },
  {
   "cell_type": "code",
   "execution_count": 3,
   "metadata": {},
   "outputs": [],
   "source": [
    "driver=webdriver.Chrome()\n",
    "driver.get('https://www.rottentomatoes.com/browse/movies_at_home/sort:popular')"
   ]
  },
  {
   "cell_type": "code",
   "execution_count": 4,
   "metadata": {},
   "outputs": [],
   "source": [
    "title=driver.find_elements(By.CSS_SELECTOR,'span[data-qa=\"discovery-media-list-item-title\"]')\n",
    "tomatometer=driver.find_elements(By.CSS_SELECTOR,'score-pairs[criticssentiment=\"positive\"]')"
   ]
  },
  {
   "cell_type": "code",
   "execution_count": 5,
   "metadata": {},
   "outputs": [],
   "source": [
    "\n",
    "score=[]\n",
    "for i in tomatometer:\n",
    "    score.append(i.get_attribute('criticsscore'))"
   ]
  },
  {
   "cell_type": "code",
   "execution_count": 6,
   "metadata": {},
   "outputs": [
    {
     "name": "stdout",
     "output_type": "stream",
     "text": [
      "LOLA ---- 100\n",
      "Guardians of the Galaxy Vol. 3 ---- 81\n",
      "River Wild ---- 80\n",
      "The Night of the 12th ---- 93\n",
      "They Cloned Tyrone ---- 94\n",
      "The Meg ---- 91\n",
      "Joy Ride ---- 100\n",
      "Leave No Trace ---- 95\n",
      "Hidden Strike ---- 64\n",
      "Insidious: The Red Door ---- 74\n",
      "Happiness for Beginners ---- 67\n",
      "Paradise ---- 94\n",
      "Spider-Man: Across the Spider-Verse ---- 83\n",
      "The Flash ---- 67\n",
      "The Super Mario Bros. Movie ---- 84\n"
     ]
    }
   ],
   "source": [
    "for i in range (min(len(title),len(score))):\n",
    "    print(title[i].text,\"----\",score[i])"
   ]
  },
  {
   "cell_type": "markdown",
   "metadata": {},
   "source": [
    "## Experiments"
   ]
  },
  {
   "cell_type": "code",
   "execution_count": 7,
   "metadata": {},
   "outputs": [],
   "source": [
    "platforms=driver.find_elements(By.CSS_SELECTOR,'affiliate-icon[role=\"image\"]')\n",
    "total_platforms=len(platforms)\n",
    "platforms_list=[]\n",
    "for platform in platforms:\n",
    "    platforms_list.append(platform.get_attribute('icon'))"
   ]
  },
  {
   "cell_type": "code",
   "execution_count": 8,
   "metadata": {},
   "outputs": [
    {
     "data": {
      "text/plain": [
       "['in-theaters',\n",
       " 'vudu',\n",
       " 'peacock',\n",
       " 'netflix',\n",
       " 'hulu',\n",
       " 'amazon-prime-video-us',\n",
       " 'disney-plus-us',\n",
       " 'max-us',\n",
       " 'paramount-plus-us',\n",
       " 'apple-tv-plus-us',\n",
       " 'amc-plus-us',\n",
       " 'showtime',\n",
       " 'apple-tv-us']"
      ]
     },
     "execution_count": 8,
     "metadata": {},
     "output_type": "execute_result"
    }
   ],
   "source": [
    "platforms_list"
   ]
  },
  {
   "cell_type": "code",
   "execution_count": 9,
   "metadata": {},
   "outputs": [],
   "source": [
    "platform_choice=input(\"Enter any platform ::\")\n",
    "genre_choice=input(\"Enter your fav genre ::\")\n",
    "platforms_main=driver.find_element(By.CSS_SELECTOR,f'where-to-watch-bubble[image={platform_choice}]')"
   ]
  },
  {
   "cell_type": "code",
   "execution_count": 10,
   "metadata": {},
   "outputs": [],
   "source": [
    "platforms_main.click()"
   ]
  },
  {
   "cell_type": "code",
   "execution_count": 11,
   "metadata": {},
   "outputs": [],
   "source": [
    "#genre_list = driver.find_elements(By.CSS_SELECTOR,'.label.label--small')\n",
    "genre_check=driver.find_element(By.CSS_SELECTOR,'filter-chip[data-filter=\"genres\"]')"
   ]
  },
  {
   "cell_type": "code",
   "execution_count": 12,
   "metadata": {},
   "outputs": [],
   "source": [
    "genre_check.click()"
   ]
  },
  {
   "cell_type": "code",
   "execution_count": 13,
   "metadata": {},
   "outputs": [],
   "source": [
    "genree=driver.find_element(By.CSS_SELECTOR,f'select-checkbox[value={genre_choice}]')"
   ]
  },
  {
   "cell_type": "code",
   "execution_count": 14,
   "metadata": {},
   "outputs": [],
   "source": [
    "genree.click()"
   ]
  },
  {
   "cell_type": "code",
   "execution_count": 15,
   "metadata": {},
   "outputs": [],
   "source": [
    "applier=driver.find_element(By.CSS_SELECTOR,'button[data-qa=\"apply-btn\"]')"
   ]
  },
  {
   "cell_type": "code",
   "execution_count": 16,
   "metadata": {},
   "outputs": [],
   "source": [
    "applier.click()"
   ]
  },
  {
   "cell_type": "code",
   "execution_count": 17,
   "metadata": {},
   "outputs": [],
   "source": [
    "fresh_certified=driver.find_element(By.CSS_SELECTOR,'filter-chip[data-filter=\"certified\"]')"
   ]
  },
  {
   "cell_type": "code",
   "execution_count": 18,
   "metadata": {},
   "outputs": [],
   "source": [
    "fresh_certified.click()"
   ]
  },
  {
   "cell_type": "code",
   "execution_count": 20,
   "metadata": {},
   "outputs": [],
   "source": [
    "filtered_movies=driver.find_elements(By.CSS_SELECTOR,'span[data-qa=\"discovery-media-list-item-title\"]')"
   ]
  },
  {
   "cell_type": "code",
   "execution_count": 21,
   "metadata": {},
   "outputs": [
    {
     "name": "stdout",
     "output_type": "stream",
     "text": [
      "They Cloned Tyrone\n",
      "Puss in Boots: The Last Wish\n",
      "The Nice Guys\n",
      "La La Land\n",
      "Hunt for the Wilderpeople\n",
      "American Graffiti\n",
      "Glass Onion: A Knives Out Mystery\n",
      "The Mitchells vs. the Machines\n",
      "Lost in Translation\n",
      "Frances Ha\n",
      "The Ballad of Buster Scruggs\n",
      "The Forty-Year-Old Version\n",
      "Pee-wee's Big Holiday\n",
      "Dolemite Is My Name\n",
      "The Bad Guys\n",
      "Mean Girls\n",
      "Zombieland\n",
      "Despicable Me\n",
      "Bridesmaids\n",
      "This Is the End\n",
      "I Care a Lot\n",
      "Kick-Ass\n",
      "Ferris Bueller's Day Off\n",
      "The Breakfast Club\n",
      "The Sea Beast\n",
      "The Jerk\n",
      "Chicken Run\n",
      "Set It Up\n",
      "Groundhog Day\n",
      "Private Life\n"
     ]
    }
   ],
   "source": [
    "\n",
    "for movie in filtered_movies:\n",
    "    print(movie.text)"
   ]
  },
  {
   "cell_type": "code",
   "execution_count": null,
   "metadata": {},
   "outputs": [],
   "source": [
    "genre_check=driver.find_element(By.CSS_SELECTOR,'filter-chip[data-filter=\"genres\"]')\n",
    "genre_check.click()\n",
    "\n",
    "new_genre_check=driver.find_element(By.CSS_SELECTOR,'bottom-sheet-menu[data-filter=\"genres\"]')\n",
    "\n",
    "genre_list=new_genre_check.find_elements(By.CSS_SELECTOR,'span[slot=\"label\"]')"
   ]
  },
  {
   "cell_type": "code",
   "execution_count": null,
   "metadata": {},
   "outputs": [],
   "source": [
    "for i in genre_list:\n",
    "    print(i.text)"
   ]
  },
  {
   "cell_type": "markdown",
   "metadata": {},
   "source": [
    "# Main Project\n"
   ]
  },
  {
   "cell_type": "code",
   "execution_count": 5,
   "metadata": {},
   "outputs": [
    {
     "name": "stdout",
     "output_type": "stream",
     "text": [
      "['in-theaters', 'vudu', 'peacock', 'netflix', 'hulu', 'amazon-prime-video-us', 'disney-plus-us', 'max-us', 'paramount-plus-us', 'apple-tv-plus-us', 'amc-plus-us', 'showtime', 'apple-tv-us']\n",
      "['ACTION', 'ADVENTURE', 'ANIMATION', 'ANIME', 'BIOGRAPHY', 'COMEDY', 'CRIME', 'DOCUMENTARY', 'DRAMA', 'ENTERTAINMENT', 'FAITH & SPIRITUALITY', 'FANTASY', 'GAME SHOW', 'LGBTQ+', 'HEALTH & WELLNESS', 'HISTORY', 'HOLIDAY', 'HORROR', 'HOUSE & GARDEN', 'KIDS & FAMILY', 'MUSIC', 'MUSICAL', 'MYSTERY & THRILLER', 'NATURE', 'NEWS', 'REALITY', 'ROMANCE', 'SCI-FI', 'SHORT', 'SOAP', 'SPECIAL INTEREST', 'SPORTS', 'STAND-UP', 'TALK SHOW', 'TRAVEL', 'VARIETY', 'WAR', 'WESTERN']\n",
      "\n",
      " Checking for movies on netflix with genre - documentary\n",
      "\n",
      " Top 10 Fresh-certified movie recommendations on the way...\n",
      "\n",
      "1  .  The Deepest Breath\n",
      "2  .  Descendant\n",
      "3  .  Wham!\n",
      "4  .  \"Sr.\"\n",
      "5  .  They Shall Not Grow Old\n",
      "6  .  My Octopus Teacher\n",
      "7  .  A Secret Love\n",
      "8  .  Bombshell: The Hedy Lamarr Story\n",
      "9  .  Icarus\n",
      "10  .  Is That Black Enough for You?!?\n",
      "['in-theaters', 'vudu', 'peacock', 'netflix', 'hulu', 'amazon-prime-video-us', 'disney-plus-us', 'max-us', 'paramount-plus-us', 'apple-tv-plus-us', 'amc-plus-us', 'showtime', 'apple-tv-us']\n",
      "\n",
      " Checking for movies on hulu with genre - animation\n",
      "\n",
      " Top 10 Fresh-certified movie recommendations on the way...\n",
      "\n",
      "1  .  Puss in Boots: The Last Wish\n",
      "2  .  Nimona\n",
      "3  .  The Mitchells vs. the Machines\n",
      "4  .  Rise of the Teenage Mutant Ninja Turtles: The Movie\n",
      "5  .  The Bad Guys\n",
      "6  .  Despicable Me\n",
      "7  .  Bee Movie\n",
      "8  .  Alita: Battle Angel\n",
      "9  .  Mummies\n",
      "10  .  Rio 2\n"
     ]
    }
   ],
   "source": [
    "from selenium import webdriver\n",
    "from selenium.webdriver.common.by import By\n",
    "import os\n",
    "from selenium.webdriver.support.ui import WebDriverWait\n",
    "from selenium.webdriver.support import expected_conditions as EC\n",
    "\n",
    "os.environ['PATH']+= r'C:/SeleniumDrivers'\n",
    "\n",
    "def movie_printer():\n",
    "        \n",
    "            driver=webdriver.Chrome()\n",
    "            driver.get('https://www.rottentomatoes.com/browse/movies_at_home/sort:popular')\n",
    "\n",
    "            wait = WebDriverWait(driver, 10)\n",
    "            driver.maximize_window()\n",
    "            while(True):\n",
    "                    full_genre_list=[]\n",
    "                    genre_check=driver.find_element(By.CSS_SELECTOR,'filter-chip[data-filter=\"genres\"]')\n",
    "                    genre_check.click()\n",
    "                    new_genre_check=driver.find_element(By.CSS_SELECTOR,'bottom-sheet-menu[data-filter=\"genres\"]')\n",
    "                    genre_list=new_genre_check.find_elements(By.CSS_SELECTOR,'span[slot=\"label\"]')\n",
    "                    for i in genre_list:\n",
    "                           full_genre_list.append(i.text)\n",
    "                           #print(i.text)\n",
    "                    genre_check.click()\n",
    "                    \n",
    "\n",
    "\n",
    "                    platforms=driver.find_elements(By.CSS_SELECTOR,'affiliate-icon[role=\"image\"]')\n",
    "                    total_platforms=len(platforms)\n",
    "                    platforms_list=[]\n",
    "                    for platform in platforms:\n",
    "                         platforms_list.append(platform.get_attribute('icon'))\n",
    "\n",
    "                    \n",
    "                    platform_choice=input(\"Enter any platform or enter -1 to view available platforms ::\")\n",
    "                    if platform_choice==\"-1\":\n",
    "                           print(platforms_list)\n",
    "                           platform_choice=input(\"Now, Enter the platform : \")\n",
    "                    \n",
    "                    genre_choice=input(\"Enter your favorite genre or press -1 to view available genres::\")\n",
    "                    if genre_choice==\"-1\":\n",
    "                           print(full_genre_list)\n",
    "                           genre_choice=input(\"Now, Enter the Genre : \")\n",
    "            \n",
    "                    \n",
    "\n",
    "                    print(f'\\n Checking for movies on {platform_choice} with genre - {genre_choice}')\n",
    "\n",
    "\n",
    "                    platforms_main=driver.find_element(By.CSS_SELECTOR,f'where-to-watch-bubble[image={platform_choice}]')\n",
    "\n",
    "                    platforms_main.click()\n",
    "\n",
    "                    genre_check.click()\n",
    "\n",
    "                    genree=driver.find_element(By.CSS_SELECTOR,f'select-checkbox[value={genre_choice}]')\n",
    "\n",
    "                    genree.click()\n",
    "\n",
    "                    applier=driver.find_element(By.CSS_SELECTOR,'button[data-qa=\"apply-btn\"]')\n",
    "\n",
    "                    applier.click()\n",
    "\n",
    "                    fresh_certified=driver.find_element(By.CSS_SELECTOR,'filter-chip[data-filter=\"certified\"]')\n",
    "\n",
    "                    fresh_certified.click()\n",
    "\n",
    "                    print(\"\\n Top 10 Fresh-certified movie recommendations on the way...\\n\")\n",
    "\n",
    "\n",
    "                    result_elements = wait.until(EC.presence_of_all_elements_located((By.CSS_SELECTOR, 'span[data-qa=\"discovery-media-list-item-title\"]')))\n",
    "\n",
    "                    count=1\n",
    "                    if result_elements==None:\n",
    "                        print(\"No movies found with specified Genre!\")\n",
    "                        \n",
    "                    for movie in result_elements:\n",
    "                        if count==11:\n",
    "                            break\n",
    "                        print(count,\" . \",movie.text)\n",
    "                        count+=1\n",
    "                        \n",
    "                    continuer = input('''\\n Press -1 to terminate the program.''')\n",
    "\n",
    "                    if continuer == \"-1\":\n",
    "                            break\n",
    "                    \n",
    "                    else:\n",
    "                            genre_check.click()\n",
    "                            genree.click()\n",
    "                            applier.click()\n",
    "\n",
    "                    \n",
    "\n",
    "\n",
    "\n",
    "movie_printer()\n",
    "\n"
   ]
  },
  {
   "cell_type": "code",
   "execution_count": null,
   "metadata": {},
   "outputs": [],
   "source": []
  },
  {
   "cell_type": "code",
   "execution_count": null,
   "metadata": {},
   "outputs": [],
   "source": []
  }
 ],
 "metadata": {
  "kernelspec": {
   "display_name": "Python 3",
   "language": "python",
   "name": "python3"
  },
  "language_info": {
   "codemirror_mode": {
    "name": "ipython",
    "version": 3
   },
   "file_extension": ".py",
   "mimetype": "text/x-python",
   "name": "python",
   "nbconvert_exporter": "python",
   "pygments_lexer": "ipython3",
   "version": "3.10.10"
  },
  "orig_nbformat": 4
 },
 "nbformat": 4,
 "nbformat_minor": 2
}
